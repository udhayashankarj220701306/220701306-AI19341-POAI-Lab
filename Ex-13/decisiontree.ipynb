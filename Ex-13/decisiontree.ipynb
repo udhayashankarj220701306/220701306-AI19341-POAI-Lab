{
 "cells": [
  {
   "cell_type": "code",
   "execution_count": 1,
   "id": "15fc97ee-2e55-4491-899a-0f66111ab0a1",
   "metadata": {},
   "outputs": [
    {
     "name": "stdout",
     "output_type": "stream",
     "text": [
      "['male']\n",
      "['female']\n"
     ]
    }
   ],
   "source": [
    "from sklearn import tree\n",
    "#Using DecisionTree classifier for prediction\n",
    "clf = tree.DecisionTreeClassifier()\n",
    "#Here the array contains three values which are height,weight and shoe size\n",
    "X = [[181, 80, 91], [182, 90, 92], [183, 100, 92], [184, 200, 93], [185, 300, 94], [186,\n",
    "400, 95], [187, 500, 96], [189, 600, 97], [190, 700, 98], [191, 800, 99], [192, 900, 100],\n",
    "[193, 1000, 101]]\n",
    "Y = ['male', 'male', 'female', 'male' , 'female', 'male', 'female' , 'male' , 'female', 'male' ,\n",
    "'female' , 'male' ]\n",
    "clf = clf.fit(X, Y)\n",
    "#Predicting on basis of given random values for each given feature\n",
    "predictionf = clf.predict([[181, 80, 91]])\n",
    "predictionm = clf.predict([[183, 100, 92]])\n",
    "#Printing final prediction\n",
    "print(predictionf)\n",
    "print(predictionm)"
   ]
  }
 ],
 "metadata": {
  "kernelspec": {
   "display_name": "Python 3 (ipykernel)",
   "language": "python",
   "name": "python3"
  },
  "language_info": {
   "codemirror_mode": {
    "name": "ipython",
    "version": 3
   },
   "file_extension": ".py",
   "mimetype": "text/x-python",
   "name": "python",
   "nbconvert_exporter": "python",
   "pygments_lexer": "ipython3",
   "version": "3.12.1"
  }
 },
 "nbformat": 4,
 "nbformat_minor": 5
}
